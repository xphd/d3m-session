{
 "cells": [
  {
   "cell_type": "code",
   "execution_count": 1,
   "metadata": {},
   "outputs": [],
   "source": [
    "import os, sys, json\n",
    "import pandas as pd\n",
    "from d3mds import D3MDataset, D3MProblem, D3MDS\n",
    "from multiIndexARIMA import MultiIndexARIMA\n",
    "from sklearn.metrics import mean_absolute_error, mean_squared_error"
   ]
  },
  {
   "cell_type": "code",
   "execution_count": 2,
   "metadata": {},
   "outputs": [],
   "source": [
    " def in_jyputer_notebook():\n",
    "    try:\n",
    "        assert get_ipython().__class__.__name__==\"ZMQInteractiveShell\"\n",
    "        return True\n",
    "    except:\n",
    "        return False\n",
    "\n",
    "if in_jyputer_notebook(): \n",
    "    here = os.getcwd()\n",
    "else:\n",
    "    here = os.path.dirname(os.path.abspath(__file__))"
   ]
  },
  {
   "cell_type": "code",
   "execution_count": 3,
   "metadata": {},
   "outputs": [],
   "source": [
    "dspath = os.path.join(here, '..', '..', 'LL1_736_population_spawn_dataset')\n",
    "prpath = os.path.join(here, '..', '..', 'LL1_736_population_spawn_problem')\n",
    "solpath = os.path.join(here, '..')\n",
    "assert os.path.exists(dspath)\n",
    "assert os.path.exists(prpath)\n",
    "d3mds = D3MDS(dspath, prpath)\n",
    "\n",
    "X_train = d3mds.get_train_data()\n",
    "y_train = d3mds.get_train_targets()\n",
    "X_test = d3mds.get_test_data()\n",
    "y_test = d3mds.get_test_targets()"
   ]
  },
  {
   "cell_type": "code",
   "execution_count": 9,
   "metadata": {},
   "outputs": [],
   "source": [
    "# m = MultiIndexARIMA(multiIndexCols=['species','sector'], timecol='day', valuecol='count', ar_values=[1], ma_values=[1])\n",
    "m = MultiIndexARIMA(multiIndexCols=['species','sector'], timecol='day', valuecol='count', ar_values=[1,2,3,4], ma_values=[1,2,3,4])\n",
    "m.fit(X_train, y_train, verbose=True)"
   ]
  },
  {
   "cell_type": "code",
   "execution_count": 5,
   "metadata": {},
   "outputs": [],
   "source": [
    "y_pred = pd.DataFrame(m.predict(X_test))\n",
    "y_pred.index = X_test.index\n",
    "y_pred.columns = [x['colName'] for x in d3mds.problem.get_targets()]"
   ]
  },
  {
   "cell_type": "code",
   "execution_count": 6,
   "metadata": {},
   "outputs": [],
   "source": [
    "scores = pd.DataFrame(columns=['metric','value'], \n",
    "                      data=[[\"meanAbsoluteError\", mean_absolute_error(y_test.ravel(), y_pred)]])"
   ]
  },
  {
   "cell_type": "code",
   "execution_count": 7,
   "metadata": {},
   "outputs": [],
   "source": [
    "y_pred.to_csv(os.path.join('..', 'predictions.csv'))\n",
    "scores.to_csv(os.path.join('..', 'scores.csv'), index=None)"
   ]
  },
  {
   "cell_type": "code",
   "execution_count": null,
   "metadata": {},
   "outputs": [],
   "source": []
  }
 ],
 "metadata": {
  "kernelspec": {
   "display_name": "Python 3",
   "language": "python",
   "name": "python3"
  },
  "language_info": {
   "codemirror_mode": {
    "name": "ipython",
    "version": 3
   },
   "file_extension": ".py",
   "mimetype": "text/x-python",
   "name": "python",
   "nbconvert_exporter": "python",
   "pygments_lexer": "ipython3",
   "version": "3.6.5"
  }
 },
 "nbformat": 4,
 "nbformat_minor": 2
}
