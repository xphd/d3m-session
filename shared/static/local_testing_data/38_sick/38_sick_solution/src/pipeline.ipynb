{
 "cells": [
  {
   "cell_type": "code",
   "execution_count": 1,
   "metadata": {},
   "outputs": [],
   "source": [
    "import os, sys, json\n",
    "import pandas as pd\n",
    "from d3mds import D3MDataset, D3MProblem, D3MDS\n",
    "from sklearn.ensemble import RandomForestClassifier\n",
    "from sklearn.model_selection import RandomizedSearchCV\n",
    "from scipy.stats import randint as sp_randint\n",
    "from time import time\n",
    "from feature_extraction import *\n",
    "from feature_selection import *\n",
    "from sklearn.pipeline import Pipeline\n",
    "from sklearn.metrics import roc_auc_score\n",
    "import warnings, string\n",
    "from sklearn import preprocessing"
   ]
  },
  {
   "cell_type": "code",
   "execution_count": 2,
   "metadata": {},
   "outputs": [],
   "source": [
    "def in_jyputer_notebook():\n",
    "    try:\n",
    "        assert get_ipython().__class__.__name__==\"ZMQInteractiveShell\"\n",
    "        return True\n",
    "    except:\n",
    "        return False\n",
    "\n",
    "if in_jyputer_notebook(): \n",
    "    here = os.getcwd()\n",
    "else:\n",
    "    here = os.path.dirname(os.path.abspath(__file__))"
   ]
  },
  {
   "cell_type": "code",
   "execution_count": 3,
   "metadata": {},
   "outputs": [
    {
     "name": "stdout",
     "output_type": "stream",
     "text": [
      "(3018, 29) (3018, 1)\n",
      "(754, 29) (754, 1)\n"
     ]
    },
    {
     "name": "stderr",
     "output_type": "stream",
     "text": [
      "/mnt/e/SW26425/D3M_staging/38_sick/38_sick_solution/src/d3mds.py:31: UserWarning: the datasetSchemaVersions in the API and datasetDoc do not match !!!!!!!\n",
      "  warnings.warn(\"the datasetSchemaVersions in the API and datasetDoc do not match !!!!!!!\")\n",
      "/mnt/e/SW26425/D3M_staging/38_sick/38_sick_solution/src/d3mds.py:197: UserWarning: the problemSchemaVersions in the API and datasetDoc do not match !!!!!!!\n",
      "  warnings.warn(\"the problemSchemaVersions in the API and datasetDoc do not match !!!!!!!\")\n",
      "/mnt/e/SW26425/D3M_staging/38_sick/38_sick_solution/src/d3mds.py:310: FutureWarning: Method .as_matrix will be removed in a future version. Use .values instead.\n",
      "  return (df[df.columns[target_cols]]).as_matrix().reshape(X,Y)\n",
      "/mnt/e/SW26425/D3M_staging/38_sick/38_sick_solution/src/d3mds.py:324: FutureWarning: Method .as_matrix will be removed in a future version. Use .values instead.\n",
      "  return (df[df.columns[target_cols]]).as_matrix().reshape(X,Y)\n"
     ]
    }
   ],
   "source": [
    "dspath = os.path.join(here,'..','..','38_sick_dataset')\n",
    "assert os.path.exists(dspath)\n",
    "prpath = os.path.join(here,'..','..','38_sick_problem')\n",
    "assert os.path.exists(prpath)\n",
    "\n",
    "d3mds = D3MDS(dspath, prpath)\n",
    "\n",
    "# get the train and test data\n",
    "X_train = d3mds.get_train_data()\n",
    "y_train = d3mds.get_train_targets()\n",
    "X_test = d3mds.get_test_data()\n",
    "y_test = d3mds.get_test_targets()\n",
    "print(X_train.shape, y_train.shape)\n",
    "print(X_test.shape, y_test.shape)\n",
    "\n",
    "# get the metric\n",
    "metrics = d3mds.problem.get_performance_metrics()"
   ]
  },
  {
   "cell_type": "code",
   "execution_count": 9,
   "metadata": {},
   "outputs": [
    {
     "name": "stdout",
     "output_type": "stream",
     "text": [
      "n_features 7\n",
      "n_features 22\n",
      "RandomizedSearchCV took 31.67 seconds for 20 candidates parameter settings.\n",
      "train score 0.9971189708982036\n",
      "test score 0.9768484401866864\n"
     ]
    },
    {
     "name": "stderr",
     "output_type": "stream",
     "text": [
      "/mnt/e/SW26425/D3M_staging/38_sick/38_sick_solution/src/feature_extraction.py:167: FutureWarning: Method .as_matrix will be removed in a future version. Use .values instead.\n",
      "  X = df[self.numeric_columns].apply(lambda x: pd.to_numeric(x, errors='coerce')).as_matrix()\n",
      "/mnt/e/SW26425/D3M_staging/38_sick/38_sick_solution/src/feature_extraction.py:77: FutureWarning: Method .as_matrix will be removed in a future version. Use .values instead.\n",
      "  return X.apply(lambda x: x.apply(lambda y: self.code_maps[x.name][y])).as_matrix()\n"
     ]
    }
   ],
   "source": [
    "# define a custom pipeline\n",
    "def make_pipeline(X_train, y_train, X_test, y_test):\n",
    "    \n",
    "    # get columns information\n",
    "    cols_info = d3mds.dataset.get_learning_data_columns()\n",
    "    \n",
    "    # read the Slacker JSON file\n",
    "    pipe_json = os.path.join(here, 'pipeline.json')\n",
    "    assert os.path.exists(pipe_json)\n",
    "    with open(pipe_json) as data_file:    \n",
    "        ps = json.load(data_file)\n",
    "\n",
    "    ## instantiate feature extractor\n",
    "    key, fe = ps['feature_extractors'].popitem()\n",
    "    fe_class = fe['feature_extractor']\n",
    "    fe_params = fe['params']\n",
    "    feature_extractor = eval(fe_class)(**fe_params)\n",
    "    if isinstance(feature_extractor, AnnotatedTabularExtractor):\n",
    "        feature_extractor.set_cols_info(cols_info)\n",
    "\n",
    "    ## instantiate feature selector\n",
    "    fs = ps['feature_selector']\n",
    "    fs_class = fs['feature_selector']\n",
    "    fs_params = fs['params']\n",
    "    feature_selector = eval(fs_class)(**fs_params)\n",
    "    \n",
    "    ## binarize labels\n",
    "    lb = preprocessing.LabelBinarizer()\n",
    "    lb.fit(y_train)\n",
    "    y_train = lb.transform(y_train).ravel()\n",
    "    y_test = lb.transform(y_test).ravel()\n",
    "    \n",
    "    clf = RandomForestClassifier(random_state=42)\n",
    "    param_grid = {\"n_estimators\":sp_randint(10, 200),\n",
    "                  \"max_depth\": [3,5,10,20,None],\n",
    "                  \"max_features\": sp_randint(1, 20),\n",
    "                  \"min_samples_split\": sp_randint(2, 20),\n",
    "                  \"bootstrap\": [True, False],\n",
    "                  \"criterion\": [\"gini\", \"entropy\"]}   \n",
    "    n_iter_search = 20\n",
    "    random_search  = RandomizedSearchCV(clf, \n",
    "                                        param_distributions=param_grid, \n",
    "                                        n_iter=n_iter_search,\n",
    "                                        cv=5,\n",
    "                                        scoring='roc_auc',\n",
    "                                        random_state=42,\n",
    "                                        verbose=0)\n",
    "    pipeline = Pipeline([\n",
    "        ('vect', feature_extractor),\n",
    "        ('sel', feature_selector),\n",
    "        ('clf', random_search),\n",
    "    ])\n",
    "    \n",
    "    # fit the pipeline\n",
    "    start = time()\n",
    "    with warnings.catch_warnings():\n",
    "        warnings.simplefilter(\"ignore\")\n",
    "        pipeline.fit(X_train, y_train)\n",
    "    print(\"RandomizedSearchCV took %.2f seconds for %d candidates parameter settings.\" % ((time() - start), n_iter_search))\n",
    "    print(\"train score\", random_search.best_score_ )\n",
    "    \n",
    "    # store the estimator model\n",
    "    best_estimator=(pipeline.steps[2][1].best_estimator_)\n",
    "    remove_white_space = lambda x: ''.join([i for i in x if i not in (string.whitespace)])\n",
    "    be_str = remove_white_space(best_estimator.__repr__())\n",
    "    with open (os.path.join(here, \"best_estimator.json\"), \"w\") as f:\n",
    "        json.dump({\"best_estimator\":be_str}, f)\n",
    "    return pipeline, lb\n",
    "\n",
    "pipeline, lb = make_pipeline(X_train, y_train, X_test, y_test)\n",
    "    \n",
    "## make prediction\n",
    "y_pred = pipeline.predict(X_test)\n",
    "\n",
    "## store predictions\n",
    "targetCols = [col['colName'] for col in d3mds.problem.get_targets()]\n",
    "y_pred_df = pd.DataFrame(index=X_test.index, data=lb.inverse_transform(y_pred), columns=targetCols)\n",
    "y_pred_df.to_csv(os.path.join('..','predictions.csv'))\n",
    "\n",
    "## compute performance on test data\n",
    "metrics = d3mds.problem.get_performance_metrics()\n",
    "scoresdf = pd.DataFrame(columns=['metric','value','randomSeed','fold'])\n",
    "for item in metrics:\n",
    "    metric = item['metric']\n",
    "    if metric=='rocAuc':\n",
    "        score = roc_auc_score(y_test, y_pred)\n",
    "        scoresdf.loc[len(scoresdf)]=['rocAuc', score, 42, 0]\n",
    "    elif metric == 'f1Macro':\n",
    "        score = f1_score(y_test, y_pred, average='macro')\n",
    "        scoresdf.loc[len(scoresdf)]=['f1Macro', score, 42, 0]\n",
    "\n",
    "print('test score', score)\n",
    "scoresdf.to_csv(os.path.join('.','scores.csv'), index=None)"
   ]
  },
  {
   "cell_type": "code",
   "execution_count": null,
   "metadata": {},
   "outputs": [],
   "source": []
  }
 ],
 "metadata": {
  "kernelspec": {
   "display_name": "Python 3",
   "language": "python",
   "name": "python3"
  },
  "language_info": {
   "codemirror_mode": {
    "name": "ipython",
    "version": 3
   },
   "file_extension": ".py",
   "mimetype": "text/x-python",
   "name": "python",
   "nbconvert_exporter": "python",
   "pygments_lexer": "ipython3",
   "version": "3.6.5"
  }
 },
 "nbformat": 4,
 "nbformat_minor": 2
}
